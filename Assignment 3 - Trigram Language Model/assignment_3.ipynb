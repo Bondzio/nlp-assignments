{
 "cells": [
  {
   "cell_type": "code",
   "execution_count": 1,
   "metadata": {
    "collapsed": false
   },
   "outputs": [],
   "source": [
    "import os\n",
    "from nltk import word_tokenize\n",
    "from nltk.corpus import stopwords\n",
    "import string\n",
    "from nltk.util import bigrams, trigrams\n",
    "import random\n",
    "\n",
    "english_stops = stopwords.words('english')\n",
    "punct = list(string.punctuation)\n",
    "punct += ['``', \"''\", \"'s\"]\n",
    "\n",
    "to_be_ignored = english_stops + punct\n",
    "\n",
    "def create_bigrams_count_dict(n):\n",
    "    bigrams_count_dict = {}\n",
    "    for root, dirs, files in os.walk('../Datasets/single-docs'):\n",
    "        for file in files[:n]:\n",
    "            f = open(os.path.join(root, file), 'r')\n",
    "            temp = word_tokenize(f.read())\n",
    "            words = []\n",
    "            for word in temp:\n",
    "                if word not in to_be_ignored:\n",
    "                    words.append(word)\n",
    "            my_bigrams=list(bigrams(words))\n",
    "            for bigram in my_bigrams: \n",
    "                if not bigram in bigrams_count_dict: \n",
    "                    bigrams_count_dict[bigram] = 0\n",
    "                bigrams_count_dict[bigram] += 1 \n",
    "            f.close()\n",
    "    return bigrams_count_dict\n",
    "\n",
    "\n",
    "def create_trigrams_count_dict(n):\n",
    "    trigrams_count_dict = {}\n",
    "    for root, dirs, files in os.walk('../Datasets/single-docs'):\n",
    "        for file in files[:n]:\n",
    "            f = open(os.path.join(root, file), 'r')\n",
    "            temp = word_tokenize(f.read())\n",
    "            words = []\n",
    "            for word in temp:\n",
    "                if word not in to_be_ignored:\n",
    "                    words.append(word)\n",
    "            my_trigrams=list(trigrams(words))\n",
    "            for trigram in my_trigrams: \n",
    "                if not trigram in trigrams_count_dict: \n",
    "                    trigrams_count_dict[trigram] = 0\n",
    "                trigrams_count_dict[trigram] += 1 \n",
    "            f.close()\n",
    "    return trigrams_count_dict\n",
    "\n",
    "\n",
    "bi_dict = create_bigrams_count_dict(30000)\n",
    "tri_dict = create_trigrams_count_dict(30000)"
   ]
  },
  {
   "cell_type": "code",
   "execution_count": 6,
   "metadata": {
    "collapsed": false
   },
   "outputs": [
    {
     "name": "stdout",
     "output_type": "stream",
     "text": [
      "military infantry cavalry elephants chariots\n",
      "decided study many texts still thought important name worldwide modern\n",
      "So coronary arteries become harder\n",
      "straight crosswords Here small example British-style straight crossword 1 Sheep\n"
     ]
    }
   ],
   "source": [
    "tri_probs = {}\n",
    "for tri in tri_dict:\n",
    "    tri_probs[tri] = tri_dict[tri]/bi_dict[(tri[0],tri[1])]\n",
    "    \n",
    "def generate_a_random_sentence(starting_bigram, p, length):\n",
    "    sentence = []\n",
    "    for word in starting_bigram:\n",
    "        sentence.append(word)\n",
    "    while len(sentence)<length:\n",
    "        sentence.append(get_a_new_word(sentence[len(sentence)-2],sentence[len(sentence)-1],p))\n",
    "    return ' '.join(sentence)\n",
    "\n",
    "def get_a_new_word(word1,word2,p):\n",
    "    matching_trigrams = []\n",
    "    for tri in tri_probs.keys():\n",
    "        if tri[0]==word1 and tri[1]==word2 and tri_probs[tri]>p:\n",
    "            matching_trigrams.append(tri)\n",
    "    try:\n",
    "        new_word = random.choice(matching_trigrams)[2]\n",
    "    except IndexError:\n",
    "        return \"no_match\"\n",
    "    return new_word\n",
    "\n",
    "starting_bigram = random.choice(list(bi_dict))\n",
    "print(generate_a_random_sentence(starting_bigram,0.05,5))\n",
    "\n",
    "starting_bigram = random.choice(list(bi_dict))\n",
    "print(generate_a_random_sentence(starting_bigram,0.05,10))\n",
    "\n",
    "starting_bigram = random.choice(list(bi_dict))\n",
    "print(generate_a_random_sentence(starting_bigram,0.1,5))\n",
    "\n",
    "starting_bigram = random.choice(list(bi_dict))\n",
    "print(generate_a_random_sentence(starting_bigram,0.1,10))"
   ]
  }
 ],
 "metadata": {
  "anaconda-cloud": {},
  "kernelspec": {
   "display_name": "Python [default]",
   "language": "python",
   "name": "python3"
  },
  "language_info": {
   "codemirror_mode": {
    "name": "ipython",
    "version": 3
   },
   "file_extension": ".py",
   "mimetype": "text/x-python",
   "name": "python",
   "nbconvert_exporter": "python",
   "pygments_lexer": "ipython3",
   "version": "3.5.2"
  }
 },
 "nbformat": 4,
 "nbformat_minor": 1
}
